{
  "nbformat": 4,
  "nbformat_minor": 0,
  "metadata": {
    "colab": {
      "private_outputs": true,
      "provenance": [],
      "mount_file_id": "1ZekPG-rTLeNw6qgtcVe7BkfwnhuWqzI7",
      "authorship_tag": "ABX9TyO+M+DDRbFrqbBll0rVF0jD",
      "include_colab_link": true
    },
    "kernelspec": {
      "name": "python3",
      "display_name": "Python 3"
    },
    "language_info": {
      "name": "python"
    }
  },
  "cells": [
    {
      "cell_type": "markdown",
      "metadata": {
        "id": "view-in-github",
        "colab_type": "text"
      },
      "source": [
        "<a href=\"https://colab.research.google.com/github/javier1974-hub/Delineador/blob/main/Delineador.ipynb\" target=\"_parent\"><img src=\"https://colab.research.google.com/assets/colab-badge.svg\" alt=\"Open In Colab\"/></a>"
      ]
    },
    {
      "cell_type": "code",
      "execution_count": null,
      "metadata": {
        "id": "FiyB29o0zDCt"
      },
      "outputs": [],
      "source": [
        "from scipy.io import loadmat\n",
        "import numpy as np\n",
        "import scipy.signal as sp\n",
        "import matplotlib.pyplot as plt\n",
        "import plotly.graph_objects as go\n",
        "import plotly.express as px"
      ]
    },
    {
      "cell_type": "code",
      "source": [],
      "metadata": {
        "id": "qmKfRxP-1TDr"
      },
      "execution_count": null,
      "outputs": []
    },
    {
      "cell_type": "code",
      "source": [
        "signal = np.genfromtxt('/content/drive/MyDrive/Colab Notebooks/Delineador/sujeto122_6.csv',dtype= float, delimiter=',')"
      ],
      "metadata": {
        "id": "l3oXHfhB5zRI"
      },
      "execution_count": null,
      "outputs": []
    },
    {
      "cell_type": "code",
      "source": [
        "plt.plot(signal[0:1500])\n",
        "plt.ylabel('some numbers')\n",
        "plt.show()"
      ],
      "metadata": {
        "id": "aGUL_1G65zeh"
      },
      "execution_count": null,
      "outputs": []
    },
    {
      "cell_type": "code",
      "source": [],
      "metadata": {
        "id": "tWWJy88k1UQL"
      },
      "execution_count": null,
      "outputs": []
    },
    {
      "cell_type": "code",
      "source": [
        "h0 = np.array([0.125, 0.375, 0.375, 0.125 ])\n",
        "g0 = np.array([2, -2])"
      ],
      "metadata": {
        "id": "16uxtYj-61sj"
      },
      "execution_count": null,
      "outputs": []
    },
    {
      "cell_type": "code",
      "source": [
        "h = sp.upfirdn([1], h0, 4)\n",
        "g = sp.upfirdn([1], g0, 4)\n",
        "#print(h)\n",
        "#print(g)"
      ],
      "metadata": {
        "id": "EelqLjOx7oy2"
      },
      "execution_count": null,
      "outputs": []
    },
    {
      "cell_type": "code",
      "source": [
        "d1=sp.convolve(signal,g, mode = 'same');\n",
        "a1=sp.convolve(signal,h, mode = 'same');\n",
        "\n",
        "h1=sp.upfirdn([1],h,2);\n",
        "g1=sp.upfirdn([1],g,2);\n",
        "\n",
        "d2=sp.convolve(a1,g1, mode = 'same');\n",
        "a2=sp.convolve(a1,h1, mode = 'same');\n",
        "\n",
        "h2=sp.upfirdn([1],h1,2);\n",
        "g2=sp.upfirdn([1],g1,2);\n",
        "\n",
        "d3=sp.convolve(a2,g2, mode = 'same');\n",
        "a3=sp.convolve(a2,h2, mode = 'same');\n",
        "\n",
        "h3=sp.upfirdn([1],h2,2);\n",
        "g3=sp.upfirdn([1],g2,2);\n",
        "\n",
        "d4=sp.convolve(a3,g3, mode = 'same');\n",
        "a4=sp.convolve(a3,h3, mode = 'same');\n",
        "\n",
        "h4=sp.upfirdn([1],h3,2);\n",
        "g4=sp.upfirdn([1],g3,2);\n",
        "\n",
        "d5=sp.convolve(a4,g4, mode = 'same');\n",
        "a5=sp.convolve(a4,h4, mode = 'same');\n"
      ],
      "metadata": {
        "id": "HmVVHnf09ffd"
      },
      "execution_count": null,
      "outputs": []
    },
    {
      "cell_type": "code",
      "source": [
        "#\n",
        "plt.plot(signal[600:1000])\n",
        "plt.plot(np.abs(d1[600:1000]))\n",
        "plt.plot(d1[600:1000])\n",
        "plt.plot(np.abs(d2[600:1000]))\n",
        "plt.plot(d2[600:1000])\n",
        "plt.plot(np.abs(d3[600:1000]))\n",
        "plt.plot(d3[600:1000])\n",
        "plt.plot(np.abs(d4[600:1000]))\n",
        "plt.plot(d4[600:1000])\n",
        "plt.plot(np.abs(d5[600:1000]))\n",
        "plt.plot(d5[600:1000])"
      ],
      "metadata": {
        "id": "EmRZye_BBo4C"
      },
      "execution_count": null,
      "outputs": []
    },
    {
      "cell_type": "code",
      "source": [
        "plt.plot(signal[200:230])"
      ],
      "metadata": {
        "id": "IEsb-I2LKv_6"
      },
      "execution_count": null,
      "outputs": []
    },
    {
      "cell_type": "code",
      "source": [
        "def rms(x):\n",
        "  return np.sqrt(x.dot(x)/x.size)"
      ],
      "metadata": {
        "id": "ebu8dtO1A7ie"
      },
      "execution_count": null,
      "outputs": []
    },
    {
      "cell_type": "code",
      "source": [
        "def ismax(d,index,thres):\n",
        "  if ((d[index-1] < d[index]) and (d[index] > d[index+1]) and (d[index]>thres)):\n",
        "    return True\n",
        "  else:\n",
        "    return False"
      ],
      "metadata": {
        "id": "hxwXfYQvJOYQ"
      },
      "execution_count": null,
      "outputs": []
    },
    {
      "cell_type": "code",
      "source": [
        "def ismin(d,index,thres):\n",
        "  if ((d[index-1] > d[index]) and (d[index] < d[index+1]) and (d[index]< thres)):\n",
        "    return True\n",
        "  else:\n",
        "    return False"
      ],
      "metadata": {
        "id": "Do-GaPO7KYMz"
      },
      "execution_count": null,
      "outputs": []
    },
    {
      "cell_type": "code",
      "source": [
        "E1= rms(d1)\n",
        "E2= 2*rms(d2)\n",
        "E3= 2*rms(d3)\n",
        "E4= 0.5*rms(d4)\n",
        "E5= 0.5*rms(d5)\n",
        "\n",
        "print([E1, E2, E3, E4, E5])\n",
        "\n",
        "LIMITE = 60            #para PTBDB = 30\n",
        "LIMITE_QRS = 40         #para PTBDB = 20\n",
        "cont_MAXIMO_1 = 0\n",
        "cont_MAXIMO_2 = 0\n",
        "cont_MINIMO_1 = 0\n",
        "cont_MINIMO_2 = 0\n",
        "\n",
        "hay_end = 0\n",
        "hay_on = 0\n",
        "hay_R = 0\n",
        "\n",
        "\n",
        "k = 0\n",
        "p = 0\n",
        "nfirst = 0\n",
        "nlast = 0\n",
        "npre = 0\n",
        "npost = 0\n",
        "R=np.zeros(len(signal))\n",
        "R1=np.zeros(len(signal))\n",
        "R2=np.zeros(len(signal))\n",
        "R3=np.zeros(len(signal))\n",
        "S=np.zeros(len(signal))\n",
        "QRSend=np.zeros(len(signal))\n",
        "Q=np.zeros(len(signal))\n",
        "QRSon=np.zeros(len(signal))\n",
        "Rprima=np.zeros(len(signal))\n",
        "RR=0\n",
        "pos_S = 0\n",
        "pos_Q = 0\n",
        "pos_R = 0\n",
        "pos_QRSend = 0\n",
        "pos_QRSon = 0\n",
        "QRSendQRSend = []\n",
        "QRSonQRSon = []\n",
        "pos_QRSendprima = 0\n",
        "RprimaRprima = 0\n",
        "posicion_R =0\n"
      ],
      "metadata": {
        "id": "2MS3OSSwC116"
      },
      "execution_count": null,
      "outputs": []
    },
    {
      "cell_type": "code",
      "source": [
        "def HacerNuevaMuestra(d,index,thres):\n",
        "  pos_MAX_1 = 0\n",
        "  pos_MAX_2 = 0\n",
        "  pos_MAX_3 = 0\n",
        "  pos_MIN_1 = 0\n",
        "  pos_MIN_2 = 0\n",
        "  pos_MIN_3 = 0\n",
        "  cont_MAXIMO_1 = 0\n",
        "  cont_MINIMO_1 = 0\n",
        "  cont_MAXIMO_2 = 0\n",
        "  cont_MINIMO_2 = 0\n",
        "  if ismax(d,index,thres):\n",
        "    pos_MAX_1 = i\n",
        "    estado_actual = 'MAXIMO_1'\n",
        "  if ismin(d,index,thres):\n",
        "    pos_MIN_2 = i\n",
        "    estado_actual = 'MINIMO_2'"
      ],
      "metadata": {
        "id": "3Tigs1xyT2A8"
      },
      "execution_count": null,
      "outputs": []
    },
    {
      "cell_type": "code",
      "source": [
        "def HacerMaximo1(d,index,thres):\n",
        "\n",
        "  cont_MAXIMO_1 = cont_MAXIMO_1 + 1\n",
        "\n",
        "  if ismin(d,index,thres):\n",
        "    pos_MIN_1 = index\n",
        "    estado_actual = 'MINIMO_1'\n",
        "  if(cont_MAXIMO_1 > 2*LIMITE or (np.sign(d(index-1)) == -1 and np.sign(d(index+1)) == 1)):\n",
        "    cont_MAXIMO_1 = 0\n",
        "    pos_MIN_1 = 0\n",
        "    estado_actual = 'NUEVA_MUESTRA'"
      ],
      "metadata": {
        "id": "HAupTGnlVWCh"
      },
      "execution_count": null,
      "outputs": []
    },
    {
      "cell_type": "code",
      "source": [
        "def HacerMinimo1(d,index,thres):\n",
        "\n",
        "  cont_MINIMO_1 = cont_MINIMO_1 + 1\n",
        "\n",
        "  if ismax(d,index,thres):\n",
        "    pos_MAX_3 = i\n",
        "    estado_actual = 'RS'\n",
        "  if(cont_MINIMO_1 > 2*LIMITE):\n",
        "    cont_MINIMO_1 = 0\n",
        "    pos_MAX_3 = 0\n",
        "    estado_actual = 'R'"
      ],
      "metadata": {
        "id": "CfBxLqeUWq_s"
      },
      "execution_count": null,
      "outputs": []
    },
    {
      "cell_type": "code",
      "source": [
        "def HacerMinimo2(d,index,thres):\n",
        "\n",
        "  cont_MINIMO_2 = cont_MINIMO_2 + 1\n",
        "\n",
        "  if ismax(d,index,thres):\n",
        "    pos_MAX_2 = i\n",
        "    estado_actual = 'MAXIMO_2'\n",
        "  if(cont_MINIMO_2 > 3*LIMITE  or (np.sign(d(index-1)) == 1 and np.sign(d(index+1)) == -1)):\n",
        "    cont_MINIMO_2 = 0\n",
        "    pos_MAX_2 = 0\n",
        "    estado_actual = 'NUEVA_MUESTRA'"
      ],
      "metadata": {
        "id": "mKGo7uJDXJ3H"
      },
      "execution_count": null,
      "outputs": []
    },
    {
      "cell_type": "code",
      "source": [
        "def HacerMaximo2(d,index,thres):\n",
        "\n",
        "  cont_MAXIMO_2 = cont_MAXIMO_2 + 1\n",
        "\n",
        "  if ismin(d,index,thres):\n",
        "    pos_MIN_3 = i\n",
        "    estado_actual = 'QR'\n",
        "  if(cont_MAXIMO_2 > 2*LIMITE):\n",
        "    cont_MAXIMO_2 = 0\n",
        "    pos_MIN_3 = 0\n",
        "    estado_actual = 'R1'"
      ],
      "metadata": {
        "id": "Cc9Ju3vYXxwz"
      },
      "execution_count": null,
      "outputs": []
    },
    {
      "cell_type": "code",
      "source": [
        "estado_actual = ['NUEVA_MUESTRA','MAXIMO_1','MINIMO_1','MINIMO_2','MAXIMO_2','R' ,'R1','RS','QR']\n",
        "estado_anterior = estado_actual"
      ],
      "metadata": {
        "id": "4aVhWTw_EMGd"
      },
      "execution_count": null,
      "outputs": []
    },
    {
      "cell_type": "code",
      "source": [
        "def DelinearQRS(d,index,thres):\n",
        "  match estado_actual:\n",
        "    case 'NUEVA_MUESTRA':\n",
        "      HacerNuevaMuestra(d,index,thres)\n",
        "    case 'MAXIMO_1':\n",
        "      HacerMaximo1(d,index,thres)\n",
        "    case 'MINIMO_1':\n",
        "      HacerMinimo1(d,index,thres)\n",
        "    case 'MINIMO_2':\n",
        "      HacerMinimo2(d,index,thres)\n",
        "    case 'MAXIMO_2':\n",
        "      HacerMaximo2(d,index,thres)\n",
        "    case 'R':\n",
        "      pass\n",
        "    case 'R1':\n",
        "      pass\n",
        "    case 'RS':\n",
        "      pass\n",
        "    case 'QR':\n",
        "      pass\n",
        "\n",
        "    case _:\n",
        "      pass"
      ],
      "metadata": {
        "id": "sa0nsDPYMzfR"
      },
      "execution_count": null,
      "outputs": []
    },
    {
      "cell_type": "code",
      "source": [
        "for i in range(2,(len(d3)-1)):\n",
        "  DelinearQRS(d3,i,E3)"
      ],
      "metadata": {
        "id": "vknW-GoNIg6H"
      },
      "execution_count": null,
      "outputs": []
    },
    {
      "cell_type": "code",
      "source": [
        "signal_aux=d3[0:1500]\n",
        "peaks, _ = sp.find_peaks(signal_aux, height=(0.2, 0.8))\n",
        "plt.plot(signal_aux)\n",
        "plt.plot(peaks, signal_aux[peaks], \"x\")\n",
        "plt.show()"
      ],
      "metadata": {
        "id": "_AzK0O9wcSDo"
      },
      "execution_count": null,
      "outputs": []
    },
    {
      "cell_type": "code",
      "source": [
        "signal_aux=d3[0:1500]\n",
        "peaks, _ = sp.find_peaks(signal_aux, height=0.2)\n",
        "plt.plot(signal_aux)\n",
        "plt.plot(peaks, signal_aux[peaks], \"x\")\n",
        "plt.show()"
      ],
      "metadata": {
        "id": "AB77fJ9qenuj"
      },
      "execution_count": null,
      "outputs": []
    },
    {
      "cell_type": "code",
      "source": [
        "signal_aux=d3[0:1500]\n",
        "peaks, _ = sp.find_peaks(-signal_aux, height=0.2)\n",
        "plt.plot(signal_aux)\n",
        "plt.plot(peaks, signal_aux[peaks], \"x\")\n",
        "plt.show()"
      ],
      "metadata": {
        "id": "PZqiL4Owe2gq"
      },
      "execution_count": null,
      "outputs": []
    },
    {
      "cell_type": "code",
      "source": [
        "signal_aux=d3[600:1000]\n",
        "peaks, _ = sp.find_peaks(np.abs(signal_aux), height=0.2)\n",
        "print(peaks[1])\n",
        "plt.plot(signal_aux)\n",
        "plt.plot(peaks, signal_aux[peaks], \"x\")\n",
        "plt.show()"
      ],
      "metadata": {
        "id": "DM3dp7g9fQOX"
      },
      "execution_count": null,
      "outputs": []
    },
    {
      "cell_type": "code",
      "source": [
        "signal_aux=d3[600:1000]\n",
        "peaks, _ = sp.find_peaks(np.abs(signal_aux), height=0.2)\n",
        "#plt.plot(signal)\n",
        "min=sp.argrelmin(np.abs(signal_aux[peaks[0]:peaks[1]]))\n",
        "\n",
        "print([peaks[0], peaks[1], min[0]])\n",
        "min1 = min[0] + peaks[0]\n",
        "plt.plot(np.abs(signal_aux))\n",
        "plt.plot(peaks, signal_aux[peaks], \"x\")\n",
        "plt.plot(min1, signal_aux[min1], \"o\")\n",
        "plt.show()"
      ],
      "metadata": {
        "id": "1CH400Rkfnck"
      },
      "execution_count": null,
      "outputs": []
    },
    {
      "cell_type": "code",
      "source": [
        "signal_aux=d3[600:1000]\n",
        "peaks, _ = sp.find_peaks(np.abs(signal_aux), height=E3)\n",
        "#plt.plot(signal)\n",
        "min=sp.argrelmin(np.abs(signal_aux[peaks[0]:peaks[1]]))\n",
        "\n",
        "#print([peaks[0], peaks[1], min[0]])\n",
        "min1 = min[0] + peaks[0]\n",
        "#print(min1)\n",
        "#print(signal[min1])\n",
        "\n",
        "fig = go.Figure()\n",
        "t=np.linspace(1,400, 400)\n",
        "\n",
        "#fig.add_trace(go.Scatter(x=t, y= signal[600:1000], mode='lines',name='lines'))\n",
        "fig.add_trace(go.Scatter(x=t, y= d3[600:1000], mode='lines',name='lines'))\n",
        "fig.add_trace(go.Scatter(x=min1, y=signal[min1+600], mode='markers',name='markers'))\n",
        "\n",
        "fig.show()\n"
      ],
      "metadata": {
        "id": "VFlgb7U4h_r5"
      },
      "execution_count": null,
      "outputs": []
    },
    {
      "cell_type": "code",
      "source": [
        "fig = px.line(signal)\n",
        "fig.show()"
      ],
      "metadata": {
        "id": "jYIxxI7n1XMl"
      },
      "execution_count": null,
      "outputs": []
    },
    {
      "cell_type": "code",
      "source": [
        "signal_aux=d3\n",
        "peaks, _ = sp.find_peaks(np.abs(signal_aux), height=E3, distance=10)"
      ],
      "metadata": {
        "id": "eBiq_UMSEIKd"
      },
      "execution_count": null,
      "outputs": []
    },
    {
      "cell_type": "code",
      "source": [
        "# para tenerlos de a pares\n",
        "if (peaks[1]-peaks[0] > 50):\n",
        " peaks = np.delete(peaks, 0)"
      ],
      "metadata": {
        "id": "ZELyz1QGXn6C"
      },
      "execution_count": null,
      "outputs": []
    },
    {
      "cell_type": "code",
      "source": [
        "# para tenerlos de a pares\n",
        "if (peaks[-1]-peaks[-2] > 50):\n",
        " peaks = np.delete(peaks, -1)"
      ],
      "metadata": {
        "id": "SfdEYaVXZgyj"
      },
      "execution_count": null,
      "outputs": []
    },
    {
      "cell_type": "code",
      "source": [
        "print(peaks)"
      ],
      "metadata": {
        "id": "kmRFkj9PZbls"
      },
      "execution_count": null,
      "outputs": []
    },
    {
      "cell_type": "code",
      "source": [
        "fig = go.Figure()\n",
        "t=np.linspace(1,len(d3), len(d3))\n",
        "\n",
        "fig.add_trace(go.Scatter(x=t, y= signal, mode='lines',name='lines'))\n",
        "fig.add_trace(go.Scatter(x=t, y= np.abs(d3), mode='lines',name='lines'))\n",
        "fig.add_trace(go.Scatter(x=t, y= np.abs(d2), mode='lines',name='lines'))\n",
        "fig.add_trace(go.Scatter(x=peaks, y= np.abs(d3[peaks]), mode='markers',name='markers'))\n",
        "#fig.add_trace(go.Scatter(x=min1, y=signal[min1+600], mode='markers',name='markers'))\n",
        "\n",
        "fig.show()"
      ],
      "metadata": {
        "id": "1jm30xvCXhcd"
      },
      "execution_count": null,
      "outputs": []
    },
    {
      "cell_type": "code",
      "source": [],
      "metadata": {
        "id": "s9qTgru0vXJU"
      },
      "execution_count": null,
      "outputs": []
    },
    {
      "cell_type": "code",
      "source": [
        "posR=np.zeros(int(len(peaks)/2),dtype=int)    # lo tengo que hacer entero porque lo uso como indice para graficar. No puedo usar floats\n",
        "j=0\n",
        "for i in range(0,(len(peaks)-1),2):\n",
        "  R, _ = sp.find_peaks(-np.abs(d3[peaks[i]:peaks[i+1]]))\n",
        "  posR[j]=R[0]+peaks[i]\n",
        "  print([peaks[i], R, posR[j]])\n",
        "  j = j+1"
      ],
      "metadata": {
        "id": "NgG9vD4saumw"
      },
      "execution_count": null,
      "outputs": []
    },
    {
      "cell_type": "code",
      "source": [
        "print(R)\n",
        "print(len(peaks))\n",
        "print(posR)\n",
        "type(posR)"
      ],
      "metadata": {
        "id": "ZQSBx1whZKV3"
      },
      "execution_count": null,
      "outputs": []
    },
    {
      "cell_type": "code",
      "source": [
        "fig = go.Figure()\n",
        "t=np.linspace(1,len(d3), len(d3))\n",
        "\n",
        "fig.add_trace(go.Scatter(x=t, y= signal, mode='lines',name='lines'))\n",
        "#fig.add_trace(go.Scatter(x=t, y= np.abs(d3), mode='lines',name='lines'))\n",
        "#fig.add_trace(go.Scatter(x=t, y= np.abs(d2), mode='lines',name='lines'))\n",
        "#fig.add_trace(go.Scatter(x=posR, y= np.abs(d3[posR]), mode='markers',name='markers'))\n",
        "fig.add_trace(go.Scatter(x=posR, y=signal[posR], mode='markers',name='markers'))\n",
        "fig.show()"
      ],
      "metadata": {
        "id": "Mzswu0rFX5VV"
      },
      "execution_count": null,
      "outputs": []
    },
    {
      "cell_type": "code",
      "source": [
        "ventana = np.ones(150)/150"
      ],
      "metadata": {
        "id": "eTqXotOIX5eI"
      },
      "execution_count": null,
      "outputs": []
    },
    {
      "cell_type": "code",
      "source": [
        "print(ventana)"
      ],
      "metadata": {
        "id": "X_h5sx0iX5g2"
      },
      "execution_count": null,
      "outputs": []
    },
    {
      "cell_type": "code",
      "source": [
        "x = sp.convolve(np.abs(d2),ventana,mode='same')"
      ],
      "metadata": {
        "id": "bCU1zmGJX5jd"
      },
      "execution_count": null,
      "outputs": []
    },
    {
      "cell_type": "code",
      "source": [
        "fig = go.Figure()\n",
        "t=np.linspace(1,len(d2), len(d2))\n",
        "\n",
        "fig.add_trace(go.Scatter(x=t, y= x, mode='lines',name='lines'))\n",
        "fig.add_trace(go.Scatter(x=t, y= np.abs(d2), mode='lines',name='lines'))\n",
        "#fig.add_trace(go.Scatter(x=t, y= np.abs(d2), mode='lines',name='lines'))\n",
        "#fig.add_trace(go.Scatter(x=peaks, y= np.abs(d3[peaks]), mode='markers',name='markers'))\n",
        "#fig.add_trace(go.Scatter(x=min1, y=signal[min1+600], mode='markers',name='markers'))\n",
        "\n",
        "fig.show()"
      ],
      "metadata": {
        "id": "mcmGQx14X5lx"
      },
      "execution_count": null,
      "outputs": []
    },
    {
      "cell_type": "code",
      "source": [
        "thr = 2*rms(x)\n",
        "print(thr)"
      ],
      "metadata": {
        "id": "E51n5bDX6WoO"
      },
      "execution_count": null,
      "outputs": []
    },
    {
      "cell_type": "code",
      "source": [
        "posQRS, _ = sp.find_peaks(np.abs(x), height=thr, width = 150, distance=300)"
      ],
      "metadata": {
        "id": "fCVmxiSm66BB"
      },
      "execution_count": null,
      "outputs": []
    },
    {
      "cell_type": "code",
      "source": [
        "print(len(posQRS))\n",
        "print(posQRS)"
      ],
      "metadata": {
        "id": "qKSqHQH1Gb6A"
      },
      "execution_count": null,
      "outputs": []
    },
    {
      "cell_type": "markdown",
      "source": [],
      "metadata": {
        "id": "pMm1xBYQ7DMX"
      }
    },
    {
      "cell_type": "code",
      "source": [
        "fig = go.Figure()\n",
        "t=np.linspace(1,len(d2), len(d2))\n",
        "\n",
        "fig.add_trace(go.Scatter(x=t, y= x, mode='lines',name='lines'))\n",
        "#fig.add_trace(go.Scatter(x=t, y= np.abs(d2), mode='lines',name='lines'))\n",
        "#fig.add_trace(go.Scatter(x=peaks, y= np.abs(d3[peaks]), mode='markers',name='markers'))\n",
        "fig.add_trace(go.Scatter(x=posQRS, y=x[posQRS], mode='markers',name='markers'))\n",
        "\n",
        "fig.show()"
      ],
      "metadata": {
        "id": "P3bX_-vF7DfS"
      },
      "execution_count": null,
      "outputs": []
    },
    {
      "cell_type": "code",
      "source": [
        "candidatosR=np.zeros((len(posQRS),300))\n",
        "print(candidatosR)\n",
        "print(candidatosR.shape)\n",
        "\n",
        "#for i in range(len(posQRS)):\n",
        "#  print(d3[(posQRS[i]-150):(posQRS[i]+150)])\n",
        "\n",
        "for i in range(len(posQRS)):\n",
        "  candidatosR[i] = d3[(posQRS[i]-150):(posQRS[i]+150)]\n"
      ],
      "metadata": {
        "id": "mERomwfCOrN_"
      },
      "execution_count": null,
      "outputs": []
    },
    {
      "cell_type": "code",
      "source": [
        "print(candidatosR)"
      ],
      "metadata": {
        "id": "SlpTV-DpOrU6"
      },
      "execution_count": null,
      "outputs": []
    },
    {
      "cell_type": "code",
      "source": [
        "fig = go.Figure()\n",
        "t=np.linspace(1,len(candidatosR[1,:]), len(candidatosR[1,:]))\n",
        "print(len(candidatosR[1,:]))\n",
        "print(len(posQRS))\n",
        "for i in range(len(posQRS)-1):\n",
        "  fig.add_trace(go.Scatter(x=t, y= candidatosR[i,:], mode='lines',name='lines'))\n",
        "\n",
        "fig.show()"
      ],
      "metadata": {
        "id": "oh7FDmg1OrXz"
      },
      "execution_count": null,
      "outputs": []
    },
    {
      "cell_type": "code",
      "source": [
        "nroQRS = 0\n",
        "th1 = 0.5*rms(candidatosR[1,:])\n",
        "th2 = rms(candidatosR[1,:])\n",
        "th3 = 1.5*rms(candidatosR[1,:])\n",
        "th4 = 2*rms(candidatosR[1,:])\n",
        "print(th2)\n",
        "peaksR, _ = sp.find_peaks(np.abs(candidatosR[nroQRS,:]), height=th2)\n",
        "print(peaksR)"
      ],
      "metadata": {
        "id": "XkMDUp11djam"
      },
      "execution_count": null,
      "outputs": []
    },
    {
      "cell_type": "code",
      "source": [
        "\n",
        "\n",
        "fig = go.Figure()\n",
        "t=np.linspace(1,len(candidatosR[nroQRS,:]), len(candidatosR[nroQRS,:]))\n",
        "\n",
        "fig.add_trace(go.Scatter(x=t, y= candidatosR[nroQRS,:], mode='lines',name='d3'))\n",
        "fig.add_trace(go.Scatter(x=t, y= np.abs(d2[(posQRS[nroQRS]-150):(posQRS[nroQRS]+150)]), mode='lines',name='d2'))\n",
        "fig.add_trace(go.Scatter(x=t, y= np.abs(candidatosR[nroQRS,:]), mode='lines',name='abs(d3)'))\n",
        "fig.add_hline(y=th1, line_width=3, line_dash=\"dash\", line_color=\"green\")\n",
        "fig.add_hline(y=th2, line_width=3, line_dash=\"dash\", line_color=\"red\")\n",
        "fig.add_hline(y=th3, line_width=3, line_dash=\"dash\", line_color=\"blue\")\n",
        "fig.add_hline(y=th4, line_width=3, line_dash=\"dash\", line_color=\"black\")\n",
        "fig.add_hline(y=-th1, line_width=3, line_dash=\"dash\", line_color=\"green\")\n",
        "fig.add_hline(y=-th2, line_width=3, line_dash=\"dash\", line_color=\"red\")\n",
        "fig.add_hline(y=-th3, line_width=3, line_dash=\"dash\", line_color=\"blue\")\n",
        "fig.add_hline(y=-th4, line_width=3, line_dash=\"dash\", line_color=\"black\")\n",
        "fig.add_trace(go.Scatter(x=peaksR, y=candidatosR[nroQRS,:][peaksR], mode='markers',name='markers'))\n",
        "fig.add_trace(go.Scatter(x=t, y= signal[(posQRS[nroQRS]-150):(posQRS[nroQRS]+150)], mode='lines',name='signal'))\n",
        "\n",
        "fig.show()\n",
        "\n"
      ],
      "metadata": {
        "id": "rDZ0NnM1djiU"
      },
      "execution_count": null,
      "outputs": []
    },
    {
      "cell_type": "code",
      "source": [
        "x = np.array([2, 1, 2, 3, 2, 0, 1, 0])\n",
        "sp.argrelmin(x,order=1)"
      ],
      "metadata": {
        "id": "zaLMnRjddjlf"
      },
      "execution_count": null,
      "outputs": []
    },
    {
      "cell_type": "code",
      "source": [
        "x = np.array([1, 4, 3, 2, 2, 3, 4, 5, 1])\n",
        "sp.argrelmin(x,order=2)"
      ],
      "metadata": {
        "id": "NAV78LisdjoX"
      },
      "execution_count": null,
      "outputs": []
    },
    {
      "cell_type": "code",
      "source": [],
      "metadata": {
        "id": "z_1xsoQFdjrU"
      },
      "execution_count": null,
      "outputs": []
    },
    {
      "cell_type": "markdown",
      "source": [
        "Tendria que hacer una funcion que parado sobre un extremo (maximo o minimo) se desplace hacia los costados (derecha o izq ) buscando el extremo opuesto. Si empiezo en un maximo, busco minimos. Si estoy en un\n",
        "minimo, busco un maximo.\n",
        "\n",
        "le trendria que pasar el punto de inicio, la direccion de busqueda, la ventana de busqueda. Devuelve la posicion del primer punto que cumple."
      ],
      "metadata": {
        "id": "ucL61FHmo6yX"
      }
    },
    {
      "cell_type": "markdown",
      "source": [
        "Podria hacer todo lo anterior solo para uibicar las R.\n",
        "Luego podria moverme +/- x muestras en torno a la R para clasificar la morfologia del QRS. una vez que tengo la morfolofia. Sé cuantos maximos y minimos buscar en la transformada.\n",
        "La idea es análoga a las demas ondas ?"
      ],
      "metadata": {
        "id": "6GGhNIi-q1ho"
      }
    },
    {
      "cell_type": "code",
      "source": [
        "def findMax(scale, point, winSize, dir):\n",
        "  if dir == 1:\n",
        "    aux = sp.argrelmax(scale[(point):(point + winSize)], order = 1)\n",
        "    return  aux[0] + point\n",
        "  if dir == -1:\n",
        "    aux = sp.argrelmax(scale[(point - winSize):(point)], order = 1)\n",
        "    print(aux)\n",
        "    return  ((point - winSize) + aux[0] )\n"
      ],
      "metadata": {
        "id": "NFiv1DmQnCQV"
      },
      "execution_count": null,
      "outputs": []
    },
    {
      "cell_type": "code",
      "source": [
        "def findMin(scale, point, winSize, dir):\n",
        "  if dir == 1:\n",
        "    aux = sp.argrelmin(scale[(point):(point + winSize)], order = 1)\n",
        "    return aux[0] + point\n",
        "  if dir == -1:\n",
        "    aux = sp.argrelmin(scale[(point - winSize):(point)], order = 1)\n",
        "    print(aux)\n",
        "    return  ((point - winSize) + aux[0] )"
      ],
      "metadata": {
        "id": "aEilo6cYNnuw"
      },
      "execution_count": null,
      "outputs": []
    },
    {
      "cell_type": "code",
      "source": [
        "max = findMax(candidatosR[0,:],160, 30, 1)\n",
        "print(max)\n",
        "max1 = findMax(candidatosR[0,:],160, 30, -1)\n",
        "print(max1)"
      ],
      "metadata": {
        "id": "ZSCHOZ96djue"
      },
      "execution_count": null,
      "outputs": []
    },
    {
      "cell_type": "code",
      "source": [
        "aux = sp.argrelmax(candidatosR[0,:][(160 - 30):(160)], order = 1)\n",
        "print(aux)"
      ],
      "metadata": {
        "id": "oxRpNYq2Xjk1"
      },
      "execution_count": null,
      "outputs": []
    },
    {
      "cell_type": "code",
      "source": [
        "print(posQRS[0])\n",
        "print(d3[(posQRS[0]):(posQRS[0] + 20)])\n",
        "\n",
        "sp.argrelmax(np.abs(d3[(posQRS[0]):(posQRS[0] + 20)]), order = 2)"
      ],
      "metadata": {
        "id": "83wOyiAedjxF"
      },
      "execution_count": null,
      "outputs": []
    },
    {
      "cell_type": "code",
      "source": [
        "fig = go.Figure()\n",
        "\n",
        "t=np.linspace(1,300, 300)\n",
        "fig.add_trace(go.Scatter(x=t, y= np.abs(candidatosR[0,:]), mode='lines',name='d3'))\n",
        "\n",
        "\n",
        "fig.show()"
      ],
      "metadata": {
        "id": "UYDyIipEdjz-"
      },
      "execution_count": null,
      "outputs": []
    }
  ]
}